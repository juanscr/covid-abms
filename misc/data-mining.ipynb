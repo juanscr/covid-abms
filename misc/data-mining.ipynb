{
 "cells": [
  {
   "cell_type": "code",
   "execution_count": 21,
   "metadata": {},
   "outputs": [],
   "source": [
    "import matplotlib.pyplot as plt\n",
    "import numpy as np\n",
    "import pandas as pd\n",
    "import scipy.stats as st\n",
    "from datetime import datetime\n",
    "from matplotlib import cm, colors\n",
    "from read_data import DataAnalysis"
   ]
  },
  {
   "cell_type": "code",
   "execution_count": 2,
   "metadata": {},
   "outputs": [],
   "source": [
    "# Reading data\n",
    "data = pd.read_csv(\"latestdata.csv\", low_memory=False)"
   ]
  },
  {
   "cell_type": "code",
   "execution_count": 3,
   "metadata": {},
   "outputs": [],
   "source": [
    "# Constructing times list\n",
    "times = []\n",
    "a = np.array(data['date_onset_symptoms'])\n",
    "b = np.array(data['date_death_or_discharge'])\n",
    "\n",
    "for i in range(a.size):\n",
    "    if type(a[i]) == str and type(b[i]) == str:\n",
    "        times.append((a[i], b[i]))"
   ]
  },
  {
   "cell_type": "code",
   "execution_count": 42,
   "metadata": {},
   "outputs": [],
   "source": [
    "def date_to_days(date):\n",
    "    date1_aux = datetime.strptime(date[0][:10], '%d.%m.%Y')\n",
    "    date2_aux = datetime.strptime(date[1][:10], '%d.%m.%Y')\n",
    "    \n",
    "    return (date2_aux - date1_aux).days\n",
    "\n",
    "dataset = np.array(list(map(lambda x: date_to_days(x), times)))\n",
    "dataset = dataset[dataset > 0]"
   ]
  },
  {
   "cell_type": "code",
   "execution_count": 5,
   "metadata": {},
   "outputs": [
    {
     "data": {
      "image/png": "[encoded data removed]",
      "text/plain": [
       "<Figure size 432x288 with 1 Axes>"
      ]
     },
     "metadata": {
      "needs_background": "light"
     },
     "output_type": "display_data"
    }
   ],
   "source": [
    "plt.hist(dataset, ec='black', color='white')\n",
    "plt.show()"
   ]
  },
  {
   "cell_type": "code",
   "execution_count": 43,
   "metadata": {},
   "outputs": [
    {
     "name": "stdout",
     "output_type": "stream",
     "text": [
      "Distribution = beta\n",
      "p = 0.00033659424023111957\n",
      "Parameters = (1.8875069823269832, 22.98864037245216, 0, 182.79488908499076)\n",
      "=======\n",
      "Distribution = gamma\n",
      "p = 4.57717329986598e-05\n",
      "Parameters = (2.030355526529144, 0, 6.828000066872237)\n",
      "=======\n",
      "Distribution = lognorm\n",
      "p = 1.3985334649516933e-20\n",
      "Parameters = (0.8041395469908431, 0.0, 10.624998225825738)\n",
      "=======\n"
     ]
    }
   ],
   "source": [
    "def tuple_to_string(pair):\n",
    "    string = \"Distribution = \" + pair[0] + \"\\n\"\n",
    "    string += \"p = \" + str(pair[1]) + \"\\n\"\n",
    "    return string + \"Parameters = \" + str(pair[-1]) + \"\\n=======\"\n",
    "\n",
    "fitting = []\n",
    "possible_distributions = [\"beta\", \"gamma\", \"lognorm\"]\n",
    "for distribution in possible_distributions:\n",
    "    dist = getattr(st, distribution)\n",
    "    params = dist.fit(dataset, floc=0)\n",
    "    _, p_value = st.kstest(dataset, distribution, args=params)\n",
    "    fitting.append((distribution, p_value, params))\n",
    "    \n",
    "fitting_str = list(map(lambda x: tuple_to_string(x), sorted(fitting, key=lambda y: y[1], reverse=True)))\n",
    "for fit in fitting_str:\n",
    "    print(fit)"
   ]
  },
  {
   "cell_type": "code",
   "execution_count": 48,
   "metadata": {},
   "outputs": [
    {
     "data": {
      "image/png": "[encoded data removed]",
      "text/plain": [
       "<Figure size 432x288 with 1 Axes>"
      ]
     },
     "metadata": {
      "needs_background": "light"
     },
     "output_type": "display_data"
    }
   ],
   "source": [
    "index = 0\n",
    "color1 = plt.get_cmap('cool')\n",
    "color_norm = colors.Normalize(vmin=0, vmax=len(fitting) - 1)\n",
    "scalar_map = cm.ScalarMappable(norm=color_norm, cmap=color1)\n",
    "for fit in fitting:    \n",
    "    dist1 = getattr(st, fit[0])\n",
    "    params = fit[2]\n",
    "    x1 = np.linspace(dist1.ppf(0.001, *params), dist1.ppf(0.999, *params), 1000)\n",
    "    plt.plot(x1, dist1.pdf(x1, *params), color=scalar_map.to_rgba(index), label=fit[0])\n",
    "    plt.hist(dataset, ec='black', color='white', density=True)\n",
    "    index += 1\n",
    "\n",
    "plt.legend()\n",
    "plt.savefig(\"fitting-time.pdf\", bbox_inches='tight')\n",
    "plt.show()"
   ]
  },
  {
   "cell_type": "code",
   "execution_count": 7,
   "metadata": {
    "scrolled": false
   },
   "outputs": [
    {
     "name": "stderr",
     "output_type": "stream",
     "text": [
      "/usr/local/lib/python3.8/site-packages/scipy/stats/_distn_infrastructure.py:2429: RuntimeWarning: invalid value encountered in double_scalars\n",
      "  Lhat = muhat - Shat*mu\n",
      "/usr/local/lib/python3.8/site-packages/scipy/stats/_continuous_distns.py:4963: RuntimeWarning: divide by zero encountered in true_divide\n",
      "  return c**2 / (c**2 - n**2)\n"
     ]
    },
    {
     "name": "stdout",
     "output_type": "stream",
     "text": [
      "====================================\n",
      "1. beta         \u001b[91mREJECT\u001b[0m\n",
      "\t\tP-value for test 0.000762654301147389\n",
      "\t\tParameters       [2.2013107451445233, 10.717146836215813, -1.9246552709951565, 91.07534239652027]\n",
      "2. invweibull   \u001b[91mREJECT\u001b[0m\n",
      "\t\tP-value for test 0.00040532472955617056\n",
      "\t\tParameters       [11.831498275500337, -72.62682543293425, 81.49408118550588]\n",
      "3. johnsonsu    \u001b[91mREJECT\u001b[0m\n",
      "\t\tP-value for test 0.00016627021367985099\n",
      "\t\tParameters       [-7.53554976037641, 2.1020152494192077, -6.332766204532429, 0.9827706224439661]\n",
      "4. lognorm      \u001b[91mREJECT\u001b[0m\n",
      "\t\tP-value for test 0.00013135972376772699\n",
      "\t\tParameters       [0.47740082635972425, -6.3199769029556485, 17.676294797088012]\n",
      "5. invgauss     \u001b[91mREJECT\u001b[0m\n",
      "\t\tP-value for test 0.00011041857011582027\n",
      "\t\tParameters       [0.23742571720320568, -6.820863155769764, 85.41063065052823]\n",
      "6. johnsonsb    \u001b[91mREJECT\u001b[0m\n",
      "\t\tP-value for test 5.834509767400105e-05\n",
      "\t\tParameters       [2.858404856943147, 1.477129618339784, -3.644691527459397, 118.68134082159258]\n",
      "7. gamma        \u001b[91mREJECT\u001b[0m\n",
      "\t\tP-value for test 9.233742156446244e-06\n",
      "\t\tParameters       [2.1796393220181853, -1.196046798794791, 6.7230789661259465]\n",
      "8. rayleigh     \u001b[91mREJECT\u001b[0m\n",
      "\t\tP-value for test 8.237017548217088e-14\n",
      "\t\tParameters       [-2.869312876405394, 13.434109835156757]\n",
      "9. t            \u001b[91mREJECT\u001b[0m\n",
      "\t\tP-value for test 2.3667575932334377e-16\n",
      "\t\tParameters       [4.9989653638442775, 12.21774415712644, 7.529217422627957]\n",
      "10. logistic     \u001b[91mREJECT\u001b[0m\n",
      "\t\tP-value for test 2.2986019625466943e-16\n",
      "\t\tParameters       [12.468865028330544, 5.185579927069883]\n"
     ]
    }
   ],
   "source": [
    "da = DataAnalysis()\n",
    "da.set_data(dataset)\n",
    "da.fitting_test(show=True)"
   ]
  }
 ],
 "metadata": {
  "kernelspec": {
   "display_name": "Python 3",
   "language": "python",
   "name": "python3"
  },
  "language_info": {
   "codemirror_mode": {
    "name": "ipython",
    "version": 3
   },
   "file_extension": ".py",
   "mimetype": "text/x-python",
   "name": "python",
   "nbconvert_exporter": "python",
   "pygments_lexer": "ipython3",
   "version": "3.8.3"
  }
 },
 "nbformat": 4,
 "nbformat_minor": 4
}
