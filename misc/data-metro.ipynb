{
 "cells": [
  {
   "cell_type": "code",
   "execution_count": 1,
   "metadata": {
    "collapsed": false
   },
   "outputs": [],
   "source": [
    "import matplotlib\n",
    "import matplotlib.pyplot as plt\n",
    "import numpy as np\n",
    "import pandas as pd\n",
    "import statsmodels.api as sm\n",
    "\n",
    "from station import Station\n",
    "\n",
    "# Global behavior\n",
    "%matplotlib inline\n",
    "matplotlib.rcParams[\"figure.facecolor\"] = \"white\"\n",
    "matplotlib.rcParams[\"axes.facecolor\"] = \"white\"\n",
    "matplotlib.rcParams[\"savefig.facecolor\"] = \"white\"\n",
    "\n",
    "# Global functions\n",
    "save_fig = lambda x: plt.savefig(\"figs/\" + x, bbox_inches='tight')\n"
   ]
  },
  {
   "cell_type": "markdown",
   "metadata": {
    "collapsed": false
   },
   "source": [
    "# Data Reading\n"
   ]
  },
  {
   "cell_type": "code",
   "execution_count": 2,
   "metadata": {
    "collapsed": false
   },
   "outputs": [],
   "source": [
    "data = pd.read_excel(\"metro-data.xlsx\")\n",
    "dataset = data.to_numpy()\n"
   ]
  },
  {
   "cell_type": "code",
   "execution_count": 3,
   "metadata": {
    "collapsed": false
   },
   "outputs": [],
   "source": [
    "dataset = dataset[1:, :]\n",
    "for i in range(dataset.shape[0]):\n",
    "    for j in range(dataset.shape[1]):\n",
    "        if type(dataset[i, j]) != str and np.isnan(dataset[i, j]):\n",
    "            dataset[i, j] = 0\n"
   ]
  },
  {
   "cell_type": "markdown",
   "metadata": {
    "collapsed": false
   },
   "source": [
    "## Station Processing\n"
   ]
  },
  {
   "cell_type": "code",
   "execution_count": 4,
   "metadata": {
    "collapsed": false
   },
   "outputs": [
    {
     "data": {
      "text/plain": [
       "<Figure size 720x576 with 0 Axes>"
      ]
     },
     "metadata": {},
     "output_type": "display_data"
    }
   ],
   "source": [
    "all_stations = [\"ACE\", \"ALP\", \"AYU\", \"BAN\", \"BEO\", \"BER\", \"CAR\", \"CAT\", \"CIS\",\n",
    "                \"ENV\", \"EST\", \"FLO\", \"HOS\", \"IND\", \"ITA\", \"JAV\", \"LUC\", \"MAD\",\n",
    "                \"NIQ\", \"POB\", \"PRA\", \"SAA\", \"SAM\", \"STA\", \"TRI\", \"UNI\", \"XPO\"]\n",
    "directory = lambda x: \"figs/\" + x\n",
    "\n",
    "for station_name in all_stations:\n",
    "    station = Station(station_name, dataset, fixed_year=2019)\n",
    "    data_dic = station.get_data_time(lambda x: x.month)\n",
    "    data_dic1 = station.get_data_time(lambda x: x.weekday())\n",
    "    Station.boxplot_dic(data_dic, \"m = \", save=True, name=directory(station_name + \"-month-boxplot.pdf\"))\n",
    "    Station.boxplot_dic(data_dic1, \"d = \", save=True, name=directory(station_name + \"-day-boxplot.pdf\"))\n",
    "    station.create_fitting()\n"
   ]
  }
 ],
 "metadata": {
  "kernelspec": {
   "argv": [
    "/usr/bin/python3",
    "-m",
    "ipykernel_launcher",
    "-f",
    "{connection_file}"
   ],
   "display_name": "Python 3",
   "env": null,
   "interrupt_mode": "signal",
   "language": "python",
   "metadata": null,
   "name": "python3"
  },
  "name": "data-metro.ipynb"
 },
 "nbformat": 4,
 "nbformat_minor": 4
}
