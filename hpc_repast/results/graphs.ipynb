{
 "cells": [
  {
   "cell_type": "code",
   "execution_count": 9,
   "metadata": {
    "collapsed": false
   },
   "outputs": [],
   "source": [
    "import matplotlib\n",
    "import matplotlib.pyplot as plt\n",
    "import numpy as np\n",
    "import pandas as pd\n",
    "\n",
    "%matplotlib inline\n",
    "matplotlib.rc('text', usetex=True)\n",
    "matplotlib.rcParams[\"figure.facecolor\"] = \"white\"\n",
    "matplotlib.rcParams[\"axes.facecolor\"] = \"white\"\n",
    "matplotlib.rcParams[\"savefig.facecolor\"] = \"white\"\n"
   ]
  },
  {
   "cell_type": "code",
   "execution_count": 39,
   "metadata": {
    "collapsed": false
   },
   "outputs": [],
   "source": [
    "data = pd.read_csv(\"none-a300k.csv\").to_numpy()\n",
    "columns = {\"Ticks\": 0, \"Susceptibles\": 1, \"Exposed\" : 2,\n",
    "           \"Infected\" : 3, \"Recovered\" : 4, \"Dead\" : 5}\n"
   ]
  },
  {
   "cell_type": "code",
   "execution_count": 51,
   "metadata": {
    "collapsed": false
   },
   "outputs": [],
   "source": [
    "def plot_function(name, acum = False):\n",
    "    y = []\n",
    "    y_aux = data[:, columns[name]]\n",
    "    previous = 0\n",
    "    for i in range(23, y_aux.size, 24):\n",
    "        if not acum:\n",
    "            y.append(y_aux[i])\n",
    "        else:\n",
    "            y.append(y_aux[i] - previous)\n",
    "            previous = y_aux[i]\n",
    "    plt.plot(range(len(y)), y, 'k')\n",
    "    plt.xlabel(\"Days\")\n",
    "    plt.ylabel(name)\n",
    "    plt.grid(linestyle=\"--\", linewidth=0.5, dashes=(10, 20), alpha=0.5)\n",
    "    plt.savefig(\"figs/\" + name + \".pdf\", bbox_inches='tight')\n",
    "    plt.clf()\n"
   ]
  },
  {
   "cell_type": "code",
   "execution_count": 52,
   "metadata": {
    "collapsed": false
   },
   "outputs": [
    {
     "data": {
      "text/plain": [
       "<Figure size 432x288 with 0 Axes>"
      ]
     },
     "metadata": {},
     "output_type": "display_data"
    }
   ],
   "source": [
    "plot_function(\"Susceptibles\")\n",
    "plot_function(\"Exposed\")\n",
    "plot_function(\"Infected\")\n",
    "plot_function(\"Recovered\", acum = True)\n",
    "plot_function(\"Dead\", acum = True)\n"
   ]
  }
 ],
 "metadata": {
  "kernelspec": {
   "argv": [
    "/usr/bin/python3",
    "-m",
    "ipykernel_launcher",
    "-f",
    "{connection_file}"
   ],
   "display_name": "Python 3",
   "env": null,
   "interrupt_mode": "signal",
   "language": "python",
   "metadata": null,
   "name": "python3"
  },
  "name": "Untitled.ipynb"
 },
 "nbformat": 4,
 "nbformat_minor": 4
}
